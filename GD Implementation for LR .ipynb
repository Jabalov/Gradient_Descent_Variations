{
 "cells": [
  {
   "cell_type": "code",
   "execution_count": 1,
   "metadata": {},
   "outputs": [],
   "source": [
    "import numpy as np\n",
    "from matplotlib import pyplot as plt\n",
    "import pandas as pd\n",
    "%matplotlib inline\n",
    "import sklearn.metrics as metric"
   ]
  },
  {
   "cell_type": "code",
   "execution_count": 2,
   "metadata": {},
   "outputs": [],
   "source": [
    "regdata = pd.read_csv('RegData.csv', index_col=False)"
   ]
  },
  {
   "cell_type": "code",
   "execution_count": 3,
   "metadata": {},
   "outputs": [
    {
     "data": {
      "text/html": [
       "<div>\n",
       "<style scoped>\n",
       "    .dataframe tbody tr th:only-of-type {\n",
       "        vertical-align: middle;\n",
       "    }\n",
       "\n",
       "    .dataframe tbody tr th {\n",
       "        vertical-align: top;\n",
       "    }\n",
       "\n",
       "    .dataframe thead th {\n",
       "        text-align: right;\n",
       "    }\n",
       "</style>\n",
       "<table border=\"1\" class=\"dataframe\">\n",
       "  <thead>\n",
       "    <tr style=\"text-align: right;\">\n",
       "      <th></th>\n",
       "      <th>2.900000095</th>\n",
       "      <th>4</th>\n",
       "    </tr>\n",
       "  </thead>\n",
       "  <tbody>\n",
       "    <tr>\n",
       "      <th>0</th>\n",
       "      <td>6.7</td>\n",
       "      <td>7.4</td>\n",
       "    </tr>\n",
       "    <tr>\n",
       "      <th>1</th>\n",
       "      <td>4.9</td>\n",
       "      <td>5.0</td>\n",
       "    </tr>\n",
       "    <tr>\n",
       "      <th>2</th>\n",
       "      <td>7.9</td>\n",
       "      <td>7.2</td>\n",
       "    </tr>\n",
       "    <tr>\n",
       "      <th>3</th>\n",
       "      <td>9.8</td>\n",
       "      <td>7.9</td>\n",
       "    </tr>\n",
       "    <tr>\n",
       "      <th>4</th>\n",
       "      <td>6.9</td>\n",
       "      <td>6.1</td>\n",
       "    </tr>\n",
       "  </tbody>\n",
       "</table>\n",
       "</div>"
      ],
      "text/plain": [
       "   2.900000095    4\n",
       "0          6.7  7.4\n",
       "1          4.9  5.0\n",
       "2          7.9  7.2\n",
       "3          9.8  7.9\n",
       "4          6.9  6.1"
      ]
     },
     "execution_count": 3,
     "metadata": {},
     "output_type": "execute_result"
    }
   ],
   "source": [
    "regdata.head()"
   ]
  },
  {
   "cell_type": "code",
   "execution_count": 4,
   "metadata": {},
   "outputs": [],
   "source": [
    "x = np.array(regdata.iloc[:, :-1])\n",
    "y = np.array(regdata.iloc[:, -1])"
   ]
  },
  {
   "cell_type": "code",
   "execution_count": 5,
   "metadata": {},
   "outputs": [
    {
     "data": {
      "text/plain": [
       "(12, 1)"
      ]
     },
     "execution_count": 5,
     "metadata": {},
     "output_type": "execute_result"
    }
   ],
   "source": [
    "x.shape"
   ]
  },
  {
   "cell_type": "code",
   "execution_count": 6,
   "metadata": {
    "scrolled": true
   },
   "outputs": [],
   "source": [
    "y = y.reshape(len(y), 1)"
   ]
  },
  {
   "cell_type": "code",
   "execution_count": 7,
   "metadata": {},
   "outputs": [],
   "source": [
    "X = np.c_[np.ones(x.shape[0]).reshape(x.shape[0]), x]"
   ]
  },
  {
   "cell_type": "code",
   "execution_count": 8,
   "metadata": {},
   "outputs": [
    {
     "data": {
      "text/plain": [
       "((12, 2), (12, 1))"
      ]
     },
     "execution_count": 8,
     "metadata": {},
     "output_type": "execute_result"
    }
   ],
   "source": [
    "X.shape, y.shape"
   ]
  },
  {
   "cell_type": "code",
   "execution_count": 9,
   "metadata": {},
   "outputs": [
    {
     "data": {
      "text/plain": [
       "<matplotlib.collections.PathCollection at 0x21ec84e9888>"
      ]
     },
     "execution_count": 9,
     "metadata": {},
     "output_type": "execute_result"
    },
    {
     "data": {
      "image/png": "[encoded data removed]",
      "text/plain": [
       "<Figure size 432x288 with 1 Axes>"
      ]
     },
     "metadata": {
      "needs_background": "light"
     },
     "output_type": "display_data"
    }
   ],
   "source": [
    "plt.scatter(x, y)"
   ]
  },
  {
   "cell_type": "code",
   "execution_count": 10,
   "metadata": {},
   "outputs": [
    {
     "data": {
      "text/plain": [
       "array([[0.2002266 ],\n",
       "       [0.70181729]])"
      ]
     },
     "execution_count": 10,
     "metadata": {},
     "output_type": "execute_result"
    }
   ],
   "source": [
    "theta = np.random.rand(X.shape[1], 1)\n",
    "theta"
   ]
  },
  {
   "cell_type": "code",
   "execution_count": 11,
   "metadata": {},
   "outputs": [],
   "source": [
    "def compute_hypothesis(theta, x):\n",
    "    return x @ theta"
   ]
  },
  {
   "cell_type": "code",
   "execution_count": 12,
   "metadata": {},
   "outputs": [
    {
     "data": {
      "text/plain": [
       "array([[4.9024023 ],\n",
       "       [3.63913138],\n",
       "       [5.74458325],\n",
       "       [7.07803616],\n",
       "       [5.04276596],\n",
       "       [4.48131199],\n",
       "       [4.55149365],\n",
       "       [4.41113033],\n",
       "       [3.7794947 ],\n",
       "       [3.49876772],\n",
       "       [3.28822274],\n",
       "       [4.27076701]])"
      ]
     },
     "execution_count": 12,
     "metadata": {},
     "output_type": "execute_result"
    }
   ],
   "source": [
    "compute_hypothesis(theta, X)"
   ]
  },
  {
   "cell_type": "code",
   "execution_count": 13,
   "metadata": {},
   "outputs": [],
   "source": [
    "def compute_cost(theta, x, y):\n",
    "    m = len(y)\n",
    "    y_predict = compute_hypothesis(theta, x)\n",
    "    return (1 / 2*m) * np.sum(np.square(y_predict - y)) "
   ]
  },
  {
   "cell_type": "code",
   "execution_count": 14,
   "metadata": {},
   "outputs": [
    {
     "data": {
      "text/plain": [
       "114.09984948401393"
      ]
     },
     "execution_count": 14,
     "metadata": {},
     "output_type": "execute_result"
    }
   ],
   "source": [
    "compute_cost(theta, X, y)"
   ]
  },
  {
   "cell_type": "code",
   "execution_count": 15,
   "metadata": {},
   "outputs": [],
   "source": [
    "def compute_gradient(theta, x, y):\n",
    "    m = len(y)\n",
    "    y_predict = compute_hypothesis(theta, x)\n",
    "    return (1 / m) * (x.T @ (y_predict - y))"
   ]
  },
  {
   "cell_type": "code",
   "execution_count": 16,
   "metadata": {},
   "outputs": [
    {
     "data": {
      "text/plain": [
       "array([[-1.1426577 ],\n",
       "       [-7.23081713]])"
      ]
     },
     "execution_count": 16,
     "metadata": {},
     "output_type": "execute_result"
    }
   ],
   "source": [
    "compute_gradient(theta, X, y)"
   ]
  },
  {
   "cell_type": "code",
   "execution_count": 17,
   "metadata": {},
   "outputs": [],
   "source": [
    "def gradient_descent(theta, x, y, learning_rate=0.001, epsilon=0.001, max_iterations=500):\n",
    "    cost_history = []\n",
    "    theta_history = []\n",
    "    gradient = compute_gradient(theta, x, y)\n",
    "    \n",
    "    for i in range(max_iterations):\n",
    "        while (np.linalg.norm(gradient, 2) >= epsilon):\n",
    "            \n",
    "            gradient = compute_gradient(theta, x, y)\n",
    "            theta -= learning_rate * gradient\n",
    "            \n",
    "            theta_history.append([theta[0, 0], theta[1, 0]])\n",
    "            cost_history.append(compute_cost(theta, x, y))\n",
    "    \n",
    "    return theta, theta_history, cost_history"
   ]
  },
  {
   "cell_type": "code",
   "execution_count": 18,
   "metadata": {},
   "outputs": [],
   "source": [
    "weights, thetas, cost_history = gradient_descent(theta, X, y)"
   ]
  },
  {
   "cell_type": "code",
   "execution_count": 19,
   "metadata": {},
   "outputs": [
    {
     "data": {
      "text/plain": [
       "array([[0.91864572],\n",
       "       [0.76999181]])"
      ]
     },
     "execution_count": 19,
     "metadata": {},
     "output_type": "execute_result"
    }
   ],
   "source": [
    "weights"
   ]
  },
  {
   "cell_type": "code",
   "execution_count": null,
   "metadata": {},
   "outputs": [],
   "source": []
  },
  {
   "cell_type": "code",
   "execution_count": 21,
   "metadata": {},
   "outputs": [
    {
     "data": {
      "text/plain": [
       "array([[6.07759069],\n",
       "       [4.69160565],\n",
       "       [7.00158108],\n",
       "       [8.46456559],\n",
       "       [6.23158927],\n",
       "       [5.61559568],\n",
       "       [5.69259478],\n",
       "       [5.53859657],\n",
       "       [4.84560387],\n",
       "       [4.53760707],\n",
       "       [4.30660975],\n",
       "       [5.38459836]])"
      ]
     },
     "execution_count": 21,
     "metadata": {},
     "output_type": "execute_result"
    }
   ],
   "source": [
    "y_predicted = compute_hypothesis(theta, X)\n",
    "y_predicted"
   ]
  },
  {
   "cell_type": "markdown",
   "metadata": {},
   "source": [
    "#### Plot  LR equation output (fitted line) with the original data (scatter plot of X,y)"
   ]
  },
  {
   "cell_type": "code",
   "execution_count": 22,
   "metadata": {},
   "outputs": [
    {
     "data": {
      "text/plain": [
       "array([0.20136926, 0.20246588, 0.20351838, ..., 0.91864374, 0.91864473,\n",
       "       0.91864572])"
      ]
     },
     "execution_count": 22,
     "metadata": {},
     "output_type": "execute_result"
    }
   ],
   "source": [
    "np.array(thetas)[:, 0]"
   ]
  },
  {
   "cell_type": "code",
   "execution_count": 23,
   "metadata": {
    "scrolled": false
   },
   "outputs": [
    {
     "data": {
      "text/plain": [
       "[<matplotlib.lines.Line2D at 0x21ec93f0e08>]"
      ]
     },
     "execution_count": 23,
     "metadata": {},
     "output_type": "execute_result"
    },
    {
     "data": {
      "image/png": "[encoded data removed]",
      "text/plain": [
       "<Figure size 864x864 with 4 Axes>"
      ]
     },
     "metadata": {
      "needs_background": "light"
     },
     "output_type": "display_data"
    }
   ],
   "source": [
    "fig, axs = plt.subplots(2, 2, figsize=(12, 12))\n",
    "axs[0,0].title.set_text(\"Best Fit Line\")\n",
    "axs[0,0].plot(x, y_predicted, c='r')\n",
    "axs[0,0].scatter(x, y)\n",
    "\n",
    "axs[0,1].set_xlabel(\"Iterations\")\n",
    "axs[0,1].set_ylabel(\"Cost Function\")\n",
    "axs[0,1].plot(cost_history, marker='o')\n",
    "\n",
    "axs[1,0].set_xlabel(\"Weight 0\")\n",
    "axs[1,0].set_ylabel(\"Cost\")\n",
    "axs[1,0].plot(np.array(thetas)[:, 0] , cost_history[:] , marker=\"o\")\n",
    "\n",
    "        \n",
    "axs[1,1].set_xlabel(\"Weight 1\")\n",
    "axs[1,1].set_ylabel(\"Cost\")\n",
    "axs[1,1].plot(np.array(thetas)[:, 1] , cost_history[:] , marker=\"o\")"
   ]
  },
  {
   "cell_type": "code",
   "execution_count": 24,
   "metadata": {},
   "outputs": [
    {
     "data": {
      "text/plain": [
       "0.8204945610359395"
      ]
     },
     "execution_count": 24,
     "metadata": {},
     "output_type": "execute_result"
    }
   ],
   "source": [
    "metric.r2_score(y, y_predicted)"
   ]
  },
  {
   "cell_type": "code",
   "execution_count": 25,
   "metadata": {},
   "outputs": [],
   "source": [
    "multipleLr = pd.read_csv(\"MultipleLR.csv\")"
   ]
  },
  {
   "cell_type": "code",
   "execution_count": 26,
   "metadata": {},
   "outputs": [
    {
     "data": {
      "text/plain": [
       "(array([[ 93,  88,  93],\n",
       "        [ 89,  91,  90],\n",
       "        [ 96,  98, 100],\n",
       "        [ 73,  66,  70],\n",
       "        [ 53,  46,  55],\n",
       "        [ 69,  74,  77],\n",
       "        [ 47,  56,  60],\n",
       "        [ 87,  79,  90],\n",
       "        [ 79,  70,  88],\n",
       "        [ 69,  70,  73],\n",
       "        [ 70,  65,  74],\n",
       "        [ 93,  95,  91],\n",
       "        [ 79,  80,  73],\n",
       "        [ 70,  73,  78],\n",
       "        [ 93,  89,  96],\n",
       "        [ 78,  75,  68],\n",
       "        [ 81,  90,  93],\n",
       "        [ 88,  92,  86],\n",
       "        [ 78,  83,  77],\n",
       "        [ 82,  86,  90],\n",
       "        [ 86,  82,  89],\n",
       "        [ 78,  83,  85],\n",
       "        [ 76,  83,  71],\n",
       "        [ 96,  93,  95]], dtype=int64),\n",
       " array([185, 180, 196, 142, 101, 149, 115, 175, 164, 141, 141, 184, 152,\n",
       "        148, 192, 147, 183, 177, 159, 177, 175, 175, 149, 192], dtype=int64))"
      ]
     },
     "execution_count": 26,
     "metadata": {},
     "output_type": "execute_result"
    }
   ],
   "source": [
    "x2 = np.array(multipleLr.iloc[:, :-1])\n",
    "y2 = np.array(multipleLr.iloc[:, -1])\n",
    "x2, y2"
   ]
  },
  {
   "cell_type": "code",
   "execution_count": 27,
   "metadata": {},
   "outputs": [],
   "source": [
    "X2 = np.c_[np.ones(x2.shape[0]).reshape(x2.shape[0], 1), x2]"
   ]
  },
  {
   "cell_type": "code",
   "execution_count": 28,
   "metadata": {},
   "outputs": [],
   "source": [
    "y2 = y2.reshape(len(y2), 1)"
   ]
  },
  {
   "cell_type": "code",
   "execution_count": 29,
   "metadata": {},
   "outputs": [
    {
     "data": {
      "text/plain": [
       "(24, 1)"
      ]
     },
     "execution_count": 29,
     "metadata": {},
     "output_type": "execute_result"
    }
   ],
   "source": [
    "y2.shape"
   ]
  },
  {
   "cell_type": "code",
   "execution_count": 30,
   "metadata": {},
   "outputs": [
    {
     "data": {
      "text/plain": [
       "(24, 4)"
      ]
     },
     "execution_count": 30,
     "metadata": {},
     "output_type": "execute_result"
    }
   ],
   "source": [
    "X2.shape"
   ]
  },
  {
   "cell_type": "code",
   "execution_count": 31,
   "metadata": {},
   "outputs": [
    {
     "data": {
      "text/plain": [
       "(4, 1)"
      ]
     },
     "execution_count": 31,
     "metadata": {},
     "output_type": "execute_result"
    }
   ],
   "source": [
    "th = np.random.rand(4, 1)\n",
    "th.shape"
   ]
  },
  {
   "cell_type": "code",
   "execution_count": 32,
   "metadata": {},
   "outputs": [
    {
     "data": {
      "text/plain": [
       "array([[-4.17476957],\n",
       "       [ 0.35117528],\n",
       "       [ 0.54889072],\n",
       "       [ 1.16421881]])"
      ]
     },
     "execution_count": 32,
     "metadata": {},
     "output_type": "execute_result"
    }
   ],
   "source": [
    "new_theta, thetas2, cost_history2 = gradient_descent(th, X2, y2, learning_rate=0.0001, max_iterations=1000) \n",
    "new_theta"
   ]
  },
  {
   "cell_type": "code",
   "execution_count": 33,
   "metadata": {},
   "outputs": [
    {
     "data": {
      "text/plain": [
       "array([[185.05926426],\n",
       "       [181.80857888],\n",
       "       [199.75122899],\n",
       "       [139.18313016],\n",
       "       [103.718528  ],\n",
       "       [150.31908651],\n",
       "       [112.92147762],\n",
       "       [174.51953967],\n",
       "       [164.44168334],\n",
       "       [143.46664837],\n",
       "       [142.23758886],\n",
       "       [186.57306168],\n",
       "       [152.46730835],\n",
       "       [151.28558988],\n",
       "       [189.10081142],\n",
       "       [143.5505854 ],\n",
       "       [181.94294238],\n",
       "       [177.34941907],\n",
       "       [158.41968049],\n",
       "       [176.60589833],\n",
       "       [174.65081774],\n",
       "       [167.733431  ],\n",
       "       [150.73201706],\n",
       "       [191.18568132]])"
      ]
     },
     "execution_count": 33,
     "metadata": {},
     "output_type": "execute_result"
    }
   ],
   "source": [
    "y_predicted = compute_hypothesis(new_theta, X2)\n",
    "y_predicted"
   ]
  },
  {
   "cell_type": "markdown",
   "metadata": {},
   "source": [
    "### Plot loss vs. iterations"
   ]
  },
  {
   "cell_type": "code",
   "execution_count": 34,
   "metadata": {
    "scrolled": false
   },
   "outputs": [
    {
     "data": {
      "text/plain": [
       "[<matplotlib.lines.Line2D at 0x21ee1a3d408>]"
      ]
     },
     "execution_count": 34,
     "metadata": {},
     "output_type": "execute_result"
    },
    {
     "data": {
      "image/png": "[encoded data removed]",
      "text/plain": [
       "<Figure size 432x288 with 1 Axes>"
      ]
     },
     "metadata": {
      "needs_background": "light"
     },
     "output_type": "display_data"
    }
   ],
   "source": [
    "plt.plot(cost_history2, marker='o')"
   ]
  },
  {
   "cell_type": "markdown",
   "metadata": {},
   "source": [
    "#### Use R2 score to evaluate LR equation output"
   ]
  },
  {
   "cell_type": "code",
   "execution_count": 35,
   "metadata": {},
   "outputs": [
    {
     "data": {
      "text/plain": [
       "0.9896128318455032"
      ]
     },
     "execution_count": 35,
     "metadata": {},
     "output_type": "execute_result"
    }
   ],
   "source": [
    "metric.r2_score(y2, y_predicted)"
   ]
  },
  {
   "cell_type": "markdown",
   "metadata": {},
   "source": [
    "## LR Using sklearn"
   ]
  },
  {
   "cell_type": "markdown",
   "metadata": {},
   "source": [
    "### Single Variable"
   ]
  },
  {
   "cell_type": "code",
   "execution_count": 37,
   "metadata": {},
   "outputs": [],
   "source": [
    "from sklearn.linear_model import LinearRegression"
   ]
  },
  {
   "cell_type": "code",
   "execution_count": 38,
   "metadata": {},
   "outputs": [],
   "source": [
    "lr = LinearRegression().fit(X2, y2)"
   ]
  },
  {
   "cell_type": "code",
   "execution_count": 40,
   "metadata": {},
   "outputs": [
    {
     "data": {
      "text/plain": [
       "0.9896129198609613"
      ]
     },
     "execution_count": 40,
     "metadata": {},
     "output_type": "execute_result"
    }
   ],
   "source": [
    "lr.score(X2, y2)"
   ]
  },
  {
   "cell_type": "markdown",
   "metadata": {},
   "source": [
    "#### Predict y values using the trained model"
   ]
  },
  {
   "cell_type": "code",
   "execution_count": 42,
   "metadata": {},
   "outputs": [
    {
     "data": {
      "text/plain": [
       "array([[185.06492401],\n",
       "       [181.81297106],\n",
       "       [199.76132806],\n",
       "       [139.17496802],\n",
       "       [103.70058873],\n",
       "       [150.31495841],\n",
       "       [112.90674722],\n",
       "       [174.52269302],\n",
       "       [164.44275168],\n",
       "       [143.4602031 ],\n",
       "       [142.2311631 ],\n",
       "       [186.57844724],\n",
       "       [152.46214394],\n",
       "       [151.28187436],\n",
       "       [189.10801252],\n",
       "       [143.54249471],\n",
       "       [181.94844082],\n",
       "       [177.35195559],\n",
       "       [158.41670517],\n",
       "       [176.60959045],\n",
       "       [174.65375505],\n",
       "       [167.73430389],\n",
       "       [150.72609593],\n",
       "       [191.19288392]])"
      ]
     },
     "execution_count": 42,
     "metadata": {},
     "output_type": "execute_result"
    }
   ],
   "source": [
    "y_predicted = lr.predict(X2)\n",
    "y_predicted"
   ]
  }
 ],
 "metadata": {
  "kernelspec": {
   "display_name": "Python 3",
   "language": "python",
   "name": "python3"
  },
  "language_info": {
   "codemirror_mode": {
    "name": "ipython",
    "version": 3
   },
   "file_extension": ".py",
   "mimetype": "text/x-python",
   "name": "python",
   "nbconvert_exporter": "python",
   "pygments_lexer": "ipython3",
   "version": "3.7.10"
  }
 },
 "nbformat": 4,
 "nbformat_minor": 4
}
